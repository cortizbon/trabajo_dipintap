{
 "cells": [
  {
   "cell_type": "markdown",
   "metadata": {},
   "source": [
    "# Proyecto Diplomado\n",
    "\n",
    "## Parte 1: clasificación no supervisada"
   ]
  },
  {
   "cell_type": "code",
   "execution_count": null,
   "metadata": {},
   "outputs": [],
   "source": [
    "from nltk.tokenize import sent_tokenize, word_tokenize\n",
    "from nltk.stem.wordnet import WordNetLemmatizer\n",
    "from nltk.stem import PorterStemmer\n",
    "from nltk.stem.lancaster import LancasterStemmer\n",
    "from nltk.stem.snowball import SnowballStemmer\n",
    "from nltk.corpus import stopwords\n",
    "from nltk.probability import FreqDist\n",
    "from nltk import bigrams, trigrams, ngrams\n",
    "\n",
    "\n",
    "stoplist = stopwords.words('spanish')\n",
    "\n",
    "import pandas as pd\n",
    "import numpy as np\n",
    "import gensim\n",
    "import seaborn as sns\n",
    "\n",
    "from contexto.limpieza import limpieza_basica, limpieza_texto, lista_apellidos, lista_geo_colombia,lista_nombres,lista_stopwords\n",
    "from contexto.exploracion import frecuencia_ngramas, grafica_barchart_frecuencias, grafica_nube, graficar_coocurrencias, matriz_coocurrencias, nube_palabras, obtener_ngramas, par_nubes\n",
    "from contexto.lematizacion import lematizar_texto\n",
    "from contexto.stemming import stem_texto\n",
    "from contexto.vectorizacion import VectorizadorFrecuencias"
   ]
  },
  {
   "cell_type": "code",
   "execution_count": 2,
   "metadata": {},
   "outputs": [
    {
     "name": "stdout",
     "output_type": "stream",
     "text": [
      "Error\n",
      "Error\n",
      "Error\n"
     ]
    }
   ],
   "source": [
    "dataframes = []\n",
    "for numero in range(17,29):\n",
    "    try:\n",
    "        dataframes.append(pd.read_csv(f'2021-04-{numero}.csv').drop(columns='Unnamed: 0'))\n",
    "    except:\n",
    "        print('Error')"
   ]
  },
  {
   "cell_type": "code",
   "execution_count": 3,
   "metadata": {},
   "outputs": [],
   "source": [
    "noticias = pd.concat(dataframes, ignore_index=True)"
   ]
  },
  {
   "cell_type": "code",
   "execution_count": 4,
   "metadata": {},
   "outputs": [],
   "source": [
    "noticias.to_csv('noticiasecon.csv')"
   ]
  },
  {
   "cell_type": "code",
   "execution_count": 37,
   "metadata": {},
   "outputs": [],
   "source": [
    "titulos = noticias['titulo']"
   ]
  },
  {
   "cell_type": "code",
   "execution_count": 38,
   "metadata": {},
   "outputs": [],
   "source": [
    "textos = [texto for texto in titulos]"
   ]
  },
  {
   "cell_type": "code",
   "execution_count": 27,
   "metadata": {},
   "outputs": [],
   "source": [
    "muestra = ' '.join(textos)\n",
    "muestra = limpieza_texto(muestra, n_min=5, lista_palabras = lista_stopwords())"
   ]
  },
  {
   "cell_type": "code",
   "execution_count": 28,
   "metadata": {},
   "outputs": [],
   "source": [
    "tokens = word_tokenize(muestra)"
   ]
  },
  {
   "cell_type": "code",
   "execution_count": 31,
   "metadata": {},
   "outputs": [],
   "source": [
    "fdist = FreqDist(list(trigrams(tokens)))"
   ]
  },
  {
   "cell_type": "code",
   "execution_count": 33,
   "metadata": {},
   "outputs": [
    {
     "data": {
      "text/plain": [
       "[(('reforma', 'tributaria', 'dólar'), 16),\n",
       " (('reforma', 'tributaria', 'congreso'), 10),\n",
       " (('descargar', 'certificados', 'cesantías'), 8),\n",
       " (('certificados', 'cesantías', 'fondo'), 8),\n",
       " (('cesantías', 'fondo', 'nacional'), 8),\n",
       " (('fondo', 'nacional', 'ahorro'), 8),\n",
       " (('nacional', 'ahorro', 'banco'), 7),\n",
       " (('ahorro', 'banco', 'bogotá'), 7),\n",
       " (('banco', 'bogotá', 'mejor'), 7),\n",
       " (('bogotá', 'mejor', 'banco'), 7),\n",
       " (('mejor', 'banco', 'colombia'), 7),\n",
       " (('banco', 'colombia', 'según'), 7),\n",
       " (('colombia', 'según', 'global'), 7),\n",
       " (('según', 'global', 'finance'), 7),\n",
       " (('global', 'finance', 'dólar'), 7)]"
      ]
     },
     "execution_count": 33,
     "metadata": {},
     "output_type": "execute_result"
    }
   ],
   "source": [
    "fdist.most_common(15)"
   ]
  },
  {
   "cell_type": "code",
   "execution_count": 42,
   "metadata": {},
   "outputs": [],
   "source": [
    "textos = [limpieza_texto(texto, n_min=5, lista_palabras = lista_stopwords()) for texto in textos]\n",
    "textos = [texto.replace('reforma tributaria', 'reforma_tributaria')  for texto in textos ] "
   ]
  },
  {
   "cell_type": "code",
   "execution_count": null,
   "metadata": {},
   "outputs": [],
   "source": [
    "contador = 0\n",
    "textos_lem = []\n",
    "for texto in textos:\n",
    "    tokens = word_tokenize(texto)\n",
    "    adicionar = ''\n",
    "    for token in tokens:\n",
    "        if '_' in token:\n",
    "            adicionar = adicionar + ' '+token\n",
    "        else:    \n",
    "            adicionar = adicionar + ' '+lematizar_texto(token)\n",
    "    textos_lem.append(adicionar.strip())"
   ]
  },
  {
   "cell_type": "code",
   "execution_count": 71,
   "metadata": {},
   "outputs": [],
   "source": [
    "textos_proc = [limpieza_texto(texto, n_min=4, lista_palabras = lista_stopwords()) for texto in textos_lem]\n",
    "textos_proc = [word_tokenize(texto) for texto in textos_lem]"
   ]
  },
  {
   "cell_type": "code",
   "execution_count": 72,
   "metadata": {},
   "outputs": [],
   "source": [
    "corpus = gensim.corpora.Dictionary(textos_proc)"
   ]
  },
  {
   "cell_type": "code",
   "execution_count": 73,
   "metadata": {},
   "outputs": [
    {
     "data": {
      "text/plain": [
       "<gensim.corpora.dictionary.Dictionary at 0x7ff041c89d60>"
      ]
     },
     "execution_count": 73,
     "metadata": {},
     "output_type": "execute_result"
    }
   ],
   "source": [
    "corpus"
   ]
  },
  {
   "cell_type": "code",
   "execution_count": 74,
   "metadata": {},
   "outputs": [],
   "source": [
    "bow_corpus = [corpus.doc2bow(doc) for doc in textos_proc]"
   ]
  },
  {
   "cell_type": "code",
   "execution_count": 75,
   "metadata": {},
   "outputs": [],
   "source": [
    "lda_model = gensim.models.LdaMulticore(bow_corpus, num_topics=2, id2word=corpus, passes=2, workers=2)"
   ]
  },
  {
   "cell_type": "code",
   "execution_count": 235,
   "metadata": {},
   "outputs": [],
   "source": [
    "from gensim.models import CoherenceModel\n",
    "coherencia = {}\n",
    "\n",
    "for i in range(2,12):\n",
    "    lda_model = gensim.models.LdaMulticore(corpus_tfidf, num_topics=i, id2word=corpus, passes=2, workers=4)\n",
    "    coherence_model_lda = CoherenceModel(model=lda_model, texts=textos_proc, dictionary=corpus, coherence='c_v')\n",
    "    \n",
    "    coherencia[i] = coherence_model_lda.get_coherence()"
   ]
  },
  {
   "cell_type": "code",
   "execution_count": 78,
   "metadata": {},
   "outputs": [
    {
     "data": {
      "text/plain": [
       "{2: 0.6149694169715658,\n",
       " 3: 0.5673657534285944,\n",
       " 4: 0.5509094946953093,\n",
       " 5: 0.5341960845118938,\n",
       " 6: 0.5394553802183911,\n",
       " 7: 0.5254407163095353,\n",
       " 8: 0.4980892093557447,\n",
       " 9: 0.5116982494905019,\n",
       " 10: 0.46502616429285853,\n",
       " 11: 0.48800822571527297}"
      ]
     },
     "execution_count": 78,
     "metadata": {},
     "output_type": "execute_result"
    }
   ],
   "source": [
    "coherencia"
   ]
  },
  {
   "cell_type": "code",
   "execution_count": 79,
   "metadata": {},
   "outputs": [],
   "source": [
    "tfidf = gensim.models.TfidfModel(bow_corpus)\n",
    "corpus_tfidf = tfidf[bow_corpus]\n",
    "lda_model_tfidf = gensim.models.LdaMulticore(corpus_tfidf, num_topics=2, id2word=corpus, passes=2, workers=4)\n",
    "lda_visualization = pyLDAvis.gensim.prepare(lda_model_tfidf, bow_corpus, corpus, sort_topics=True)\n",
    "pyLDAvis.display(lda_visualization)"
   ]
  },
  {
   "cell_type": "code",
   "execution_count": 80,
   "metadata": {},
   "outputs": [],
   "source": [
    "clasificacion = []\n",
    "for i in range(len(bow_corpus)):\n",
    "    a = dict(lda_model_tfidf[bow_corpus[i]]).values()\n",
    "    maximo = 0\n",
    "    i_maximo = None\n",
    "    for idx, valor in enumerate(a):\n",
    "        if valor > maximo:\n",
    "            maximo = valor\n",
    "            i_maximo = idx  \n",
    "        else:\n",
    "            None\n",
    "    clasificacion.append(i_maximo)"
   ]
  },
  {
   "cell_type": "code",
   "execution_count": 173,
   "metadata": {},
   "outputs": [],
   "source": [
    "a = pd.DataFrame(textos_lem)\n",
    "a['clasificacion'] = clasificacion"
   ]
  },
  {
   "cell_type": "markdown",
   "metadata": {},
   "source": [
    "## Parte 2: Clasificación supervisada "
   ]
  },
  {
   "cell_type": "markdown",
   "metadata": {},
   "source": [
    "### Redes neuronales densas"
   ]
  },
  {
   "cell_type": "code",
   "execution_count": 88,
   "metadata": {},
   "outputs": [],
   "source": [
    "import tensorflow as tf"
   ]
  },
  {
   "cell_type": "code",
   "execution_count": 224,
   "metadata": {},
   "outputs": [],
   "source": [
    "from tensorflow.keras.layers import Conv1D, Dense, Flatten, Embedding, GlobalAveragePooling1D, Dropout,MaxPooling1D,GlobalMaxPooling1D\n",
    "from tensorflow.keras.layers.experimental.preprocessing import TextVectorization\n",
    "from tensorflow.keras.models import Sequential\n",
    "\n",
    "from sklearn.model_selection import train_test_split\n",
    "from sklearn.metrics import confusion_matrix"
   ]
  },
  {
   "cell_type": "code",
   "execution_count": 175,
   "metadata": {},
   "outputs": [],
   "source": [
    "vocab_size = 10000\n",
    "embedding_dim = 16\n",
    "max_length = 120\n",
    "trunc_type='post'\n",
    "oov_tok = \"<OOV>\"\n",
    "\n",
    "\n",
    "from tensorflow.keras.preprocessing.text import Tokenizer\n",
    "from tensorflow.keras.preprocessing.sequence import pad_sequences\n",
    "\n",
    "tokenizer = Tokenizer(num_words = vocab_size, oov_token=oov_tok)\n",
    "tokenizer.fit_on_texts(a[0])\n",
    "word_index = tokenizer.word_index\n",
    "sequences = tokenizer.texts_to_sequences(a[0])\n",
    "padded = pad_sequences(sequences,maxlen=max_length, truncating=trunc_type)"
   ]
  },
  {
   "cell_type": "code",
   "execution_count": 178,
   "metadata": {},
   "outputs": [],
   "source": [
    "x_train, x_test, y_train,y_test = train_test_split(padded, a['clasificacion'].values, test_size=0.15, random_state=1)"
   ]
  },
  {
   "cell_type": "code",
   "execution_count": 210,
   "metadata": {},
   "outputs": [
    {
     "name": "stdout",
     "output_type": "stream",
     "text": [
      "Model: \"sequential_17\"\n",
      "_________________________________________________________________\n",
      "Layer (type)                 Output Shape              Param #   \n",
      "=================================================================\n",
      "embedding_4 (Embedding)      (None, 120, 16)           160000    \n",
      "_________________________________________________________________\n",
      "flatten_10 (Flatten)         (None, 1920)              0         \n",
      "_________________________________________________________________\n",
      "dense_33 (Dense)             (None, 16)                30736     \n",
      "_________________________________________________________________\n",
      "dense_34 (Dense)             (None, 1)                 17        \n",
      "=================================================================\n",
      "Total params: 190,753\n",
      "Trainable params: 190,753\n",
      "Non-trainable params: 0\n",
      "_________________________________________________________________\n"
     ]
    }
   ],
   "source": [
    "model = tf.keras.Sequential([\n",
    "    tf.keras.layers.Embedding(vocab_size, embedding_dim, input_length=max_length),\n",
    "    tf.keras.layers.Flatten(),\n",
    "    tf.keras.layers.Dense(16, activation='relu'),\n",
    "    tf.keras.layers.Dense(1, activation='sigmoid')\n",
    "])\n",
    "model.compile(loss='binary_crossentropy',optimizer='adam',metrics=['accuracy'])\n",
    "model.summary()"
   ]
  },
  {
   "cell_type": "code",
   "execution_count": 211,
   "metadata": {},
   "outputs": [
    {
     "name": "stdout",
     "output_type": "stream",
     "text": [
      "Epoch 1/20\n",
      "13/13 [==============================] - 1s 20ms/step - loss: 0.6910 - accuracy: 0.5393 - val_loss: 0.6729 - val_accuracy: 0.6000\n",
      "Epoch 2/20\n",
      "13/13 [==============================] - 0s 8ms/step - loss: 0.6918 - accuracy: 0.5232 - val_loss: 0.6716 - val_accuracy: 0.6000\n",
      "Epoch 3/20\n",
      "13/13 [==============================] - 0s 8ms/step - loss: 0.6705 - accuracy: 0.5764 - val_loss: 0.6644 - val_accuracy: 0.6000\n",
      "Epoch 4/20\n",
      "13/13 [==============================] - 0s 8ms/step - loss: 0.6648 - accuracy: 0.5427 - val_loss: 0.6543 - val_accuracy: 0.7000\n",
      "Epoch 5/20\n",
      "13/13 [==============================] - 0s 12ms/step - loss: 0.6372 - accuracy: 0.6835 - val_loss: 0.6246 - val_accuracy: 0.7000\n",
      "Epoch 6/20\n",
      "13/13 [==============================] - 0s 11ms/step - loss: 0.6009 - accuracy: 0.7514 - val_loss: 0.5926 - val_accuracy: 0.7857\n",
      "Epoch 7/20\n",
      "13/13 [==============================] - 0s 9ms/step - loss: 0.5402 - accuracy: 0.9331 - val_loss: 0.5488 - val_accuracy: 0.8000\n",
      "Epoch 8/20\n",
      "13/13 [==============================] - 0s 11ms/step - loss: 0.4820 - accuracy: 0.9222 - val_loss: 0.5026 - val_accuracy: 0.8286\n",
      "Epoch 9/20\n",
      "13/13 [==============================] - 0s 10ms/step - loss: 0.4061 - accuracy: 0.9769 - val_loss: 0.4514 - val_accuracy: 0.8571\n",
      "Epoch 10/20\n",
      "13/13 [==============================] - 0s 11ms/step - loss: 0.3278 - accuracy: 0.9847 - val_loss: 0.4186 - val_accuracy: 0.8571\n",
      "Epoch 11/20\n",
      "13/13 [==============================] - 0s 19ms/step - loss: 0.2688 - accuracy: 0.9961 - val_loss: 0.3654 - val_accuracy: 0.8571\n",
      "Epoch 12/20\n",
      "13/13 [==============================] - 0s 8ms/step - loss: 0.2141 - accuracy: 0.9864 - val_loss: 0.3416 - val_accuracy: 0.8571\n",
      "Epoch 13/20\n",
      "13/13 [==============================] - 0s 8ms/step - loss: 0.1587 - accuracy: 0.9978 - val_loss: 0.3076 - val_accuracy: 0.9143\n",
      "Epoch 14/20\n",
      "13/13 [==============================] - 0s 14ms/step - loss: 0.1271 - accuracy: 0.9974 - val_loss: 0.2974 - val_accuracy: 0.8571\n",
      "Epoch 15/20\n",
      "13/13 [==============================] - 0s 18ms/step - loss: 0.0985 - accuracy: 0.9961 - val_loss: 0.2743 - val_accuracy: 0.8714\n",
      "Epoch 16/20\n",
      "13/13 [==============================] - 0s 10ms/step - loss: 0.0805 - accuracy: 1.0000 - val_loss: 0.2610 - val_accuracy: 0.8714\n",
      "Epoch 17/20\n",
      "13/13 [==============================] - 0s 8ms/step - loss: 0.0663 - accuracy: 1.0000 - val_loss: 0.2548 - val_accuracy: 0.8714\n",
      "Epoch 18/20\n",
      "13/13 [==============================] - 0s 11ms/step - loss: 0.0525 - accuracy: 1.0000 - val_loss: 0.2442 - val_accuracy: 0.8714\n",
      "Epoch 19/20\n",
      "13/13 [==============================] - 0s 9ms/step - loss: 0.0481 - accuracy: 1.0000 - val_loss: 0.2381 - val_accuracy: 0.8714\n",
      "Epoch 20/20\n",
      "13/13 [==============================] - 0s 13ms/step - loss: 0.0403 - accuracy: 1.0000 - val_loss: 0.2342 - val_accuracy: 0.8714\n"
     ]
    },
    {
     "data": {
      "text/plain": [
       "<tensorflow.python.keras.callbacks.History at 0x7ff023e99490>"
      ]
     },
     "execution_count": 211,
     "metadata": {},
     "output_type": "execute_result"
    }
   ],
   "source": [
    "num_epochs = 20\n",
    "model.fit(x_train, y_train, epochs=num_epochs, validation_data=(x_test, y_test))"
   ]
  },
  {
   "cell_type": "code",
   "execution_count": 212,
   "metadata": {},
   "outputs": [],
   "source": [
    "y_pred = np.zeros(x_test.shape[0])\n",
    "for i in range(x_test.shape[0]):\n",
    "    if model.predict(x_test)[i][0]>0.5:\n",
    "        y_pred[i]= 1\n",
    "    else:\n",
    "        y_pred[i]=0"
   ]
  },
  {
   "cell_type": "code",
   "execution_count": 236,
   "metadata": {},
   "outputs": [
    {
     "data": {
      "text/plain": [
       "<AxesSubplot:>"
      ]
     },
     "execution_count": 236,
     "metadata": {},
     "output_type": "execute_result"
    },
    {
     "data": {
      "image/png": "[encoded data removed]",
      "text/plain": [
       "<Figure size 432x288 with 2 Axes>"
      ]
     },
     "metadata": {
      "needs_background": "light"
     },
     "output_type": "display_data"
    }
   ],
   "source": [
    "sns.heatmap(confusion_matrix(y_pred,y_test),annot=True)"
   ]
  },
  {
   "cell_type": "markdown",
   "metadata": {},
   "source": [
    "## Redes neuronales convolucionales"
   ]
  },
  {
   "cell_type": "code",
   "execution_count": 229,
   "metadata": {},
   "outputs": [
    {
     "name": "stdout",
     "output_type": "stream",
     "text": [
      "Model: \"sequential_24\"\n",
      "_________________________________________________________________\n",
      "Layer (type)                 Output Shape              Param #   \n",
      "=================================================================\n",
      "embedding_10 (Embedding)     (None, 120, 16)           160000    \n",
      "_________________________________________________________________\n",
      "dropout_5 (Dropout)          (None, 120, 16)           0         \n",
      "_________________________________________________________________\n",
      "conv1d_5 (Conv1D)            (None, 118, 250)          12250     \n",
      "_________________________________________________________________\n",
      "max_pooling1d_2 (MaxPooling1 (None, 59, 250)           0         \n",
      "_________________________________________________________________\n",
      "conv1d_6 (Conv1D)            (None, 55, 250)           312750    \n",
      "_________________________________________________________________\n",
      "global_max_pooling1d_1 (Glob (None, 250)               0         \n",
      "_________________________________________________________________\n",
      "dense_39 (Dense)             (None, 250)               62750     \n",
      "_________________________________________________________________\n",
      "dropout_6 (Dropout)          (None, 250)               0         \n",
      "_________________________________________________________________\n",
      "dense_40 (Dense)             (None, 1)                 251       \n",
      "=================================================================\n",
      "Total params: 548,001\n",
      "Trainable params: 548,001\n",
      "Non-trainable params: 0\n",
      "_________________________________________________________________\n"
     ]
    }
   ],
   "source": [
    "filters = 250\n",
    "kernel_size = 3\n",
    "hidden_dims = 250\n",
    "model = Sequential()\n",
    "model.add(Embedding(vocab_size, embedding_dim, input_length=max_length))\n",
    "model.add(Dropout(0.2))\n",
    "\n",
    "model.add(Conv1D(filters,\n",
    "                kernel_size,\n",
    "                padding='valid'\n",
    "                ))\n",
    "model.add(MaxPooling1D())\n",
    "model.add(Conv1D(filters,\n",
    "                5,\n",
    "                padding='valid',\n",
    "                activation='relu'))\n",
    "model.add(GlobalMaxPooling1D())\n",
    "model.add(Dense(hidden_dims, activation='relu'))\n",
    "model.add(Dropout(0.2))\n",
    "\n",
    "model.add(Dense(1, activation='sigmoid'))\n",
    "model.summary()"
   ]
  },
  {
   "cell_type": "code",
   "execution_count": 230,
   "metadata": {},
   "outputs": [
    {
     "name": "stdout",
     "output_type": "stream",
     "text": [
      "Epoch 1/5\n",
      "13/13 [==============================] - 2s 95ms/step - loss: 0.6925 - accuracy: 0.5700 - val_loss: 0.6866 - val_accuracy: 0.6000\n",
      "Epoch 2/5\n",
      "13/13 [==============================] - 1s 76ms/step - loss: 0.6864 - accuracy: 0.5638 - val_loss: 0.6697 - val_accuracy: 0.6000\n",
      "Epoch 3/5\n",
      "13/13 [==============================] - 1s 76ms/step - loss: 0.6568 - accuracy: 0.5571 - val_loss: 0.5664 - val_accuracy: 0.6714\n",
      "Epoch 4/5\n",
      "13/13 [==============================] - 1s 77ms/step - loss: 0.5044 - accuracy: 0.7466 - val_loss: 0.3819 - val_accuracy: 0.8143\n",
      "Epoch 5/5\n",
      "13/13 [==============================] - 1s 74ms/step - loss: 0.2008 - accuracy: 0.9396 - val_loss: 0.3734 - val_accuracy: 0.8429\n"
     ]
    },
    {
     "data": {
      "text/plain": [
       "<tensorflow.python.keras.callbacks.History at 0x7ff024f77c10>"
      ]
     },
     "execution_count": 230,
     "metadata": {},
     "output_type": "execute_result"
    }
   ],
   "source": [
    "model.compile(loss='binary_crossentropy', optimizer='adam', metrics=['accuracy'])\n",
    "batch_size=32\n",
    "epochs=5\n",
    "model.fit(x_train,y_train,\n",
    "         batch_size=batch_size,\n",
    "         epochs=5,\n",
    "         validation_data=(x_test,y_test))"
   ]
  },
  {
   "cell_type": "code",
   "execution_count": 231,
   "metadata": {},
   "outputs": [],
   "source": [
    "y_pred = np.zeros(x_test.shape[0])\n",
    "for i in range(x_test.shape[0]):\n",
    "    if model.predict(x_test)[i][0]>0.5:\n",
    "        y_pred[i]= 1\n",
    "    else:\n",
    "        y_pred[i]=0"
   ]
  },
  {
   "cell_type": "code",
   "execution_count": 237,
   "metadata": {},
   "outputs": [
    {
     "data": {
      "text/plain": [
       "<AxesSubplot:>"
      ]
     },
     "execution_count": 237,
     "metadata": {},
     "output_type": "execute_result"
    },
    {
     "data": {
      "image/png": "[encoded data removed]",
      "text/plain": [
       "<Figure size 432x288 with 2 Axes>"
      ]
     },
     "metadata": {
      "needs_background": "light"
     },
     "output_type": "display_data"
    }
   ],
   "source": [
    "sns.heatmap(confusion_matrix(y_pred,y_test),annot=True)"
   ]
  }
 ],
 "metadata": {
  "kernelspec": {
   "display_name": "Python 3",
   "language": "python",
   "name": "python3"
  },
  "language_info": {
   "codemirror_mode": {
    "name": "ipython",
    "version": 3
   },
   "file_extension": ".py",
   "mimetype": "text/x-python",
   "name": "python",
   "nbconvert_exporter": "python",
   "pygments_lexer": "ipython3",
   "version": "3.8.5"
  }
 },
 "nbformat": 4,
 "nbformat_minor": 4
}
