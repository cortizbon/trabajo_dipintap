{
  "nbformat": 4,
  "nbformat_minor": 0,
  "metadata": {
    "colab": {
      "name": "Ensayo_Regresión_Lineal.ipynb",
      "provenance": []
    },
    "kernelspec": {
      "name": "python3",
      "display_name": "Python 3"
    }
  },
  "cells": [
    {
      "cell_type": "markdown",
      "metadata": {
        "id": "6CeO_pNTSqoy"
      },
      "source": [
        "# Regresión lineal\n",
        "\n",
        "<p align=\"center\">\n",
        "\n",
        "<img src=\"https://upload.wikimedia.org/wikipedia/en/e/ed/Least_Squares.gif\"/>\n",
        "\n",
        "\n"
      ]
    },
    {
      "cell_type": "markdown",
      "metadata": {
        "id": "KUyfENTASq4d"
      },
      "source": [
        "## Introducción\n",
        "\n",
        "Diversos métodos provenientes de las matemáticas y de la estadística han sido ampliamente utilizados para comprender los diferentes fenómenos de la realidad, ya sean biológicos, físicos o sociales. Pero sin temor a generalizar, puede afirmarse que ninguno ha tenido tanto impacto, persistencia y éxito como la regresión lineal. \n",
        "\n",
        "Desde que se plantease la regresión a la mediana de Boskovic y se desarrollase el método de Mínimos Cuadrados Ordinarios por Gauss y Legendre, la regresión ha hecho presencia en una abigarrada variedad de especialidades. Sin ánimo de simplificar, la economía, por ejemplo, tiene a la regresión lineal como caballo de batalla de la comprobación empírica de las teorías planteadas a nivel cualitativo y matemático. Se diferencias los tipos de datos: corte transversal, panel de datos o series de tiempo, y a partir de allí se aplican diferentes metodologías y variedades de la regresión, desarrolladas fundamentalmente desde la estadística y algunas desde la economía a lo largo de los años. Entre algunos ejemplos se pueden mencionar:\n",
        "\n",
        "*   Variables instrumentales\n",
        "*   Regresión discontinua\n",
        "*   Efectos fijos\n",
        "*   Efectos aleatorios\n",
        "\n",
        "El objetivo de este corto documento es responder, a través de distintas perspectivas, a una pregunta: ¿qué es la regresión lineal? Para ello, este se dividirá en tres partes. La primera de ellas, la presente introducción; la segunda, un resumen histórico de la regresión lineal; la tercera, la construcción de un algoritmo simple utilizando python; la cuarta, una aplicación del algoritmo; y, por último, las conclusiones.\n",
        "\n"
      ]
    },
    {
      "cell_type": "markdown",
      "metadata": {
        "id": "IIjtmdyZT8a2"
      },
      "source": [
        "## Historia de la regresión\n",
        "\n",
        "Si se rastrea a profundidad el origen de la regresión lineal, puede que se llegue al mismo origen del pensamiento. Tomar información de un evento específico en el pasado para explicar el presente o intentar predecir el futuro, puede ser una respuesta natural a la preguna de por qué pasan las cosas. No obstante, el origen de la regresión como se le conoce hoy en día, puede atribuirse a Rugjer Josip Boškovićhttps://de.wikipedia.org/wiki/Regressionsanalyse,\n",
        "\n",
        "<p align=\"center\">\n",
        "\n",
        "<img src=\"https://upload.wikimedia.org/wikipedia/commons/3/3b/Rudjer_Boskovic.jpg\"/>\n",
        "\n",
        "matemático y físico croata, quien en 1760 llevó a cabo la primera regresión a la mediana o [Mínimas Desviaciones Absolutas](https://de.wikipedia.org/wiki/Regressionsanalyse).\n",
        "\n",
        "$$\\arg \\min_{\\beta} \\sum_{i=1}^n|y_i-\\textbf{x}_i^{T}\\beta|$$\n",
        "\n",
        "Posterior a ello, en 1805, el matemático francés [Adrien-Marie Legendre](https://en.wikipedia.org/wiki/Adrien-Marie_Legendre) y, en 1809, el matemático de origen alemán [Carl-Friedrich Gauss](https://es.wikipedia.org/wiki/Carl_Friedrich_Gauss), publicaron cada uno por su parte, el desarrollo de los Mínimos Cuadrados Ordinarios, uno de los  métodos más populares de regresión en la actualidad. \n",
        "\n",
        "<p align=\"center\">\n",
        "  <img src=\"https://upload.wikimedia.org/wikipedia/commons/0/03/Legendre.jpg\" width=\"280\"/>\n",
        "  <img src=\"https://upload.wikimedia.org/wikipedia/commons/thumb/e/ec/Carl_Friedrich_Gauss_1840_by_Jensen.jpg/220px-Carl_Friedrich_Gauss_1840_by_Jensen.jpg\" width=\"275\" /> \n",
        "</p>\n",
        "\n",
        "$$\\arg \\min_{\\beta} \\sum_{i=1}^n(y_i-\\textbf{x}_i^{T}\\beta)^2$$\n",
        "\n",
        "En 1821, Gauss publicaría un desarrollo posterior de la teoría de los mínimos cuadrados que recibiría el nombre, posteriormente, de Teorema de Gauss-Markov, el cual establece que bajo el cumplimiento de ciertos supuestos (media condicional cero, homocedasticidad, linealidad en los parámetros, rango completo, muestreo aleatorio) el estimador de Mínimos Cuadrados es el mejor estimador lineal insesgado.\n",
        "\n",
        "Tanto Legendre como Gauss, utilizaron inicialmente la regresión como un método para determinar las órbitas de los planetas alrededor del sol basándose en observaciones astronómicas. En años ulteriores, el método sería ampliamente utilizado en diferentes disciplinas científicas y no sería sino hasta que Francis Galton, biólogo de profesión, acuñaría el nombre de regresión a la metodología.\n",
        "\n",
        "A lo largo del siglo XIX y XX, la regresión cobró vigor y se transformó en una de las herramientas más utilizadas por las diferentes ciencias que tuviesen la capacidad o la costumbre de recolectar datos para establecer relaciones o realizar predicciones. Hoy en día, casi ninguna disciplina ignora el alcance de este método e incluso hace parte de algunos programas educactivos de cursos avanzados de secundaria.\n",
        "\n",
        "### Regresión lineal y economía\n",
        "\n",
        "No obstante, hay una ciencia que ha hecho uso extenso de la regresión lineal, desde que considerase incluirla en su acervo de herramientas para el análisis de su objeto de estudio: la economía. Antes de 1870, la ciencia económica priorizaba el análisis cualitativo, discursivo, lógico o estadístico-descriptivo sobre cualquier otro. Con el interés de ingenieros, físicos y matemáticos en los fenómenos que describiera Adam Smith a finales del siglo XVIII, la economía se empezó a configurar en una suerte de física de las ciencias sociales y la rigurosidad matemática de esta última se contagiaría a la primera. \n",
        "\n",
        "Este intento por formalización de los fenómenos económicos atraería a diversas disciplinas de las matemáticas (cálculo, álgebra lineal, optimización) y grandes mentes se interesarían por su desarrollo. Ejemplo de ello John von Neumann. No obstante, la incertidumbre alrededor de la información contenida en las bases de datos de los gobiernos y las empresas no podía ser absorbida plenamente por los modelos matemáticos. Con el fin de suplir este vacío, se ha desarrollado desde la década de 1930 hasta la actualidad, la econometría: una rama de la economía que junta la teoría económica, la economía matemática y la estadística. De esta última y sobre todo, la regresión lineal.\n",
        "\n",
        "### Regresión lineal y machine learning\n",
        "\n",
        "En el contexto del aprendizaje de máquina, la regresión lineal hace parte de un conjunto de algoritmos denominados de aprendizaje supervisado. En estos, las variables input y el output están bien definidas. A pesar del alcance que usualmente tiene este algoritmo, no siempre es el mejor que se puede emplear dentro de la batería del aprendizaje de máquina. De hecho, la literatura recomienda que sea un ejercicio inicial más no el último. Algoritmos como Support Vector Machines (SVM), árboles de decisión o embedding algorithms pueden resultar más eficientes en términos de predicción.\n",
        "\n"
      ]
    },
    {
      "cell_type": "markdown",
      "metadata": {
        "id": "Z3cZOC_WT_VR"
      },
      "source": [
        "## Algoritmo\n",
        "\n",
        "$$\\textbf{b}=(\\textbf{X}'\\textbf{X})^{-1}(\\textbf{X}'\\textbf{y})$$"
      ]
    },
    {
      "cell_type": "code",
      "metadata": {
        "id": "LEH750iUVhMR"
      },
      "source": [
        "import numpy as np\n",
        "import matplotlib.pyplot as plt\n",
        "import pandas as pd\n",
        "\n",
        "def mco(X,y):\n",
        "  X = np.c_[np.ones(len(X)), X]\n",
        "  return np.dot(np.linalg.inv(np.dot(X.T,X)),np.dot(X.T,y))"
      ],
      "execution_count": 3,
      "outputs": []
    },
    {
      "cell_type": "markdown",
      "metadata": {
        "id": "Y6txrkQBUGtl"
      },
      "source": [
        "## Ejemplo\n",
        "\n",
        "### Ejemplo 1: datos simulados\n",
        "\n",
        "A continuación se presentará un ejemplo con datos simulados. Inicialmente se construye un vector $X$ de 100 números que va desde 0 hasta 20. Posteriormente se construye un vector $y$ con error $E\\sim N(0,12)$. Después, se grafican los pares de datos utilizando el módulo ```matplotlib```."
      ]
    },
    {
      "cell_type": "code",
      "metadata": {
        "id": "NEEsnBHpWNvh",
        "colab": {
          "base_uri": "https://localhost:8080/",
          "height": 461
        },
        "outputId": "cd3144d9-b2b5-430b-bf4c-4da752d375ab"
      },
      "source": [
        "X = np.linspace(0,20,100)\n",
        "y = 2*X + np.random.normal(0,12,100)\n",
        "\n",
        "plt.figure(figsize=(12,7))\n",
        "plt.grid(alpha=0.3)\n",
        "plt.title('Regresión')\n",
        "plt.scatter(X,y)"
      ],
      "execution_count": 14,
      "outputs": [
        {
          "output_type": "execute_result",
          "data": {
            "text/plain": [
              "<matplotlib.collections.PathCollection at 0x7fc18e76ea50>"
            ]
          },
          "metadata": {
            "tags": []
          },
          "execution_count": 14
        },
        {
          "output_type": "display_data",
          "data": {
            "image/png": "[encoded data removed]",
            "text/plain": [
              "<Figure size 864x504 with 1 Axes>"
            ]
          },
          "metadata": {
            "tags": [],
            "needs_background": "light"
          }
        }
      ]
    },
    {
      "cell_type": "markdown",
      "metadata": {
        "id": "KAN-JbncK3hl"
      },
      "source": [
        "A partir del algoritmo desarrollado en el apartado anterior, se estima el intercepto y la pendiente de la recta."
      ]
    },
    {
      "cell_type": "code",
      "metadata": {
        "id": "6dSrD5uSWQti",
        "colab": {
          "base_uri": "https://localhost:8080/"
        },
        "outputId": "e87f6f68-0337-43ca-c9c3-d7652386576f"
      },
      "source": [
        "betas = mco(X,y)"
      ],
      "execution_count": 16,
      "outputs": [
        {
          "output_type": "execute_result",
          "data": {
            "text/plain": [
              "array([1.3088907, 1.8303244])"
            ]
          },
          "metadata": {
            "tags": []
          },
          "execution_count": 16
        }
      ]
    },
    {
      "cell_type": "markdown",
      "metadata": {
        "id": "1Ydai8LTLGqy"
      },
      "source": [
        "La función entrega un arreglo con dos valores, siendo el primero el intercepto y el segundo, la pendiente. A continuación se construirá un vector $\\hat{y}$. Este utiliza los parámetros estimados para construir una recta utilizando la variable $X$. Por último, se grafican conjuntamente los pares de datos y la recta de regresión."
      ]
    },
    {
      "cell_type": "code",
      "metadata": {
        "id": "dyyr-3DOW3Uw",
        "colab": {
          "base_uri": "https://localhost:8080/",
          "height": 461
        },
        "outputId": "8ad62e73-a20d-4811-b3a1-787ca8334c11"
      },
      "source": [
        "y_est = betas[0] + betas[1]*X\n",
        "plt.figure(figsize=(12,7))\n",
        "plt.grid(alpha=0.3)\n",
        "plt.title('Regresión lineal')\n",
        "plt.plot(X,y_est, color='r', label='Estimación')\n",
        "plt.scatter(X,y)\n",
        "plt.legend()"
      ],
      "execution_count": 51,
      "outputs": [
        {
          "output_type": "execute_result",
          "data": {
            "text/plain": [
              "<matplotlib.legend.Legend at 0x7fc17f990cd0>"
            ]
          },
          "metadata": {
            "tags": []
          },
          "execution_count": 51
        },
        {
          "output_type": "display_data",
          "data": {
            "image/png": "[encoded data removed]",
            "text/plain": [
              "<Figure size 864x504 with 1 Axes>"
            ]
          },
          "metadata": {
            "tags": [],
            "needs_background": "light"
          }
        }
      ]
    },
    {
      "cell_type": "markdown",
      "metadata": {
        "id": "FyAxlCTDLmJh"
      },
      "source": [
        "Se utilizará ahora el módulo de ```pandas``` para construir un DataFrame y poder construir dos variables adicionales a partir de la variable $X$ inicial, a saber $X^2$ y $X^3$, con el fin de llevar a cabo procesos de estimación de parámetros de regresión adicionales, pero en este caso no del tipo lineal sino polinomial. "
      ]
    },
    {
      "cell_type": "code",
      "metadata": {
        "colab": {
          "base_uri": "https://localhost:8080/",
          "height": 204
        },
        "id": "APYodOXeI5jH",
        "outputId": "a2104cb4-e9ab-48e7-e4dc-81d8846e0bad"
      },
      "source": [
        "data = pd.DataFrame(X,y).reset_index().rename(columns={'index':'y',0:'X'})\n",
        "data.head()"
      ],
      "execution_count": 52,
      "outputs": [
        {
          "output_type": "execute_result",
          "data": {
            "text/html": [
              "<div>\n",
              "<style scoped>\n",
              "    .dataframe tbody tr th:only-of-type {\n",
              "        vertical-align: middle;\n",
              "    }\n",
              "\n",
              "    .dataframe tbody tr th {\n",
              "        vertical-align: top;\n",
              "    }\n",
              "\n",
              "    .dataframe thead th {\n",
              "        text-align: right;\n",
              "    }\n",
              "</style>\n",
              "<table border=\"1\" class=\"dataframe\">\n",
              "  <thead>\n",
              "    <tr style=\"text-align: right;\">\n",
              "      <th></th>\n",
              "      <th>y</th>\n",
              "      <th>X</th>\n",
              "    </tr>\n",
              "  </thead>\n",
              "  <tbody>\n",
              "    <tr>\n",
              "      <th>0</th>\n",
              "      <td>-19.765238</td>\n",
              "      <td>0.000000</td>\n",
              "    </tr>\n",
              "    <tr>\n",
              "      <th>1</th>\n",
              "      <td>3.305387</td>\n",
              "      <td>0.202020</td>\n",
              "    </tr>\n",
              "    <tr>\n",
              "      <th>2</th>\n",
              "      <td>6.761022</td>\n",
              "      <td>0.404040</td>\n",
              "    </tr>\n",
              "    <tr>\n",
              "      <th>3</th>\n",
              "      <td>-11.427934</td>\n",
              "      <td>0.606061</td>\n",
              "    </tr>\n",
              "    <tr>\n",
              "      <th>4</th>\n",
              "      <td>17.936847</td>\n",
              "      <td>0.808081</td>\n",
              "    </tr>\n",
              "  </tbody>\n",
              "</table>\n",
              "</div>"
            ],
            "text/plain": [
              "           y         X\n",
              "0 -19.765238  0.000000\n",
              "1   3.305387  0.202020\n",
              "2   6.761022  0.404040\n",
              "3 -11.427934  0.606061\n",
              "4  17.936847  0.808081"
            ]
          },
          "metadata": {
            "tags": []
          },
          "execution_count": 52
        }
      ]
    },
    {
      "cell_type": "code",
      "metadata": {
        "id": "X8NrnSkDI9qB"
      },
      "source": [
        "data['X^2'] = X**2\n",
        "data['X^3'] = X**3"
      ],
      "execution_count": 53,
      "outputs": []
    },
    {
      "cell_type": "code",
      "metadata": {
        "colab": {
          "base_uri": "https://localhost:8080/",
          "height": 204
        },
        "id": "-AYzPc-EKArb",
        "outputId": "87f401ea-1ea0-498e-aed6-f75fd5e90f10"
      },
      "source": [
        "data.head()"
      ],
      "execution_count": 54,
      "outputs": [
        {
          "output_type": "execute_result",
          "data": {
            "text/html": [
              "<div>\n",
              "<style scoped>\n",
              "    .dataframe tbody tr th:only-of-type {\n",
              "        vertical-align: middle;\n",
              "    }\n",
              "\n",
              "    .dataframe tbody tr th {\n",
              "        vertical-align: top;\n",
              "    }\n",
              "\n",
              "    .dataframe thead th {\n",
              "        text-align: right;\n",
              "    }\n",
              "</style>\n",
              "<table border=\"1\" class=\"dataframe\">\n",
              "  <thead>\n",
              "    <tr style=\"text-align: right;\">\n",
              "      <th></th>\n",
              "      <th>y</th>\n",
              "      <th>X</th>\n",
              "      <th>X^2</th>\n",
              "      <th>X^3</th>\n",
              "    </tr>\n",
              "  </thead>\n",
              "  <tbody>\n",
              "    <tr>\n",
              "      <th>0</th>\n",
              "      <td>-19.765238</td>\n",
              "      <td>0.000000</td>\n",
              "      <td>0.000000</td>\n",
              "      <td>0.000000</td>\n",
              "    </tr>\n",
              "    <tr>\n",
              "      <th>1</th>\n",
              "      <td>3.305387</td>\n",
              "      <td>0.202020</td>\n",
              "      <td>0.040812</td>\n",
              "      <td>0.008245</td>\n",
              "    </tr>\n",
              "    <tr>\n",
              "      <th>2</th>\n",
              "      <td>6.761022</td>\n",
              "      <td>0.404040</td>\n",
              "      <td>0.163249</td>\n",
              "      <td>0.065959</td>\n",
              "    </tr>\n",
              "    <tr>\n",
              "      <th>3</th>\n",
              "      <td>-11.427934</td>\n",
              "      <td>0.606061</td>\n",
              "      <td>0.367309</td>\n",
              "      <td>0.222612</td>\n",
              "    </tr>\n",
              "    <tr>\n",
              "      <th>4</th>\n",
              "      <td>17.936847</td>\n",
              "      <td>0.808081</td>\n",
              "      <td>0.652995</td>\n",
              "      <td>0.527672</td>\n",
              "    </tr>\n",
              "  </tbody>\n",
              "</table>\n",
              "</div>"
            ],
            "text/plain": [
              "           y         X       X^2       X^3\n",
              "0 -19.765238  0.000000  0.000000  0.000000\n",
              "1   3.305387  0.202020  0.040812  0.008245\n",
              "2   6.761022  0.404040  0.163249  0.065959\n",
              "3 -11.427934  0.606061  0.367309  0.222612\n",
              "4  17.936847  0.808081  0.652995  0.527672"
            ]
          },
          "metadata": {
            "tags": []
          },
          "execution_count": 54
        }
      ]
    },
    {
      "cell_type": "markdown",
      "metadata": {
        "id": "RcqEvYENL-YE"
      },
      "source": [
        "Primero una regresión polinomial de grado $2$."
      ]
    },
    {
      "cell_type": "code",
      "metadata": {
        "id": "aDV1Gd0UJHgj"
      },
      "source": [
        "betas_2 = mco(data.filter(['X','X^2']), y)"
      ],
      "execution_count": 55,
      "outputs": []
    },
    {
      "cell_type": "code",
      "metadata": {
        "colab": {
          "base_uri": "https://localhost:8080/"
        },
        "id": "ezK9R9omJVAs",
        "outputId": "21fc44c4-e8f5-4206-fecd-ec0af1922be0"
      },
      "source": [
        "betas_2"
      ],
      "execution_count": 56,
      "outputs": [
        {
          "output_type": "execute_result",
          "data": {
            "text/plain": [
              "array([-1.20215796,  2.59132588, -0.03805007])"
            ]
          },
          "metadata": {
            "tags": []
          },
          "execution_count": 56
        }
      ]
    },
    {
      "cell_type": "code",
      "metadata": {
        "colab": {
          "base_uri": "https://localhost:8080/",
          "height": 461
        },
        "id": "Ql_XYWUXJWPF",
        "outputId": "b439a908-22de-4eeb-b9d8-11aa2b52faff"
      },
      "source": [
        "y_est_2 = betas_2[0] + betas_2[1]*data['X'] + betas_2[2]*data['X^2']\n",
        "plt.figure(figsize=(12,7))\n",
        "plt.grid(alpha=0.3)\n",
        "plt.title('Regresión polinimial - Grado 2')\n",
        "plt.plot(X,y_est_2, color='r', label='Estimación')\n",
        "plt.scatter(X,y)\n",
        "plt.legend()"
      ],
      "execution_count": 58,
      "outputs": [
        {
          "output_type": "execute_result",
          "data": {
            "text/plain": [
              "<matplotlib.legend.Legend at 0x7fc17f915f10>"
            ]
          },
          "metadata": {
            "tags": []
          },
          "execution_count": 58
        },
        {
          "output_type": "display_data",
          "data": {
            "image/png": "[encoded data removed]",
            "text/plain": [
              "<Figure size 864x504 with 1 Axes>"
            ]
          },
          "metadata": {
            "tags": [],
            "needs_background": "light"
          }
        }
      ]
    },
    {
      "cell_type": "markdown",
      "metadata": {
        "id": "bR7Z2Jf4MFUk"
      },
      "source": [
        "Por último, una estimación de grado $3$."
      ]
    },
    {
      "cell_type": "code",
      "metadata": {
        "id": "EZmdR7AEJqSz"
      },
      "source": [
        "betas_3 = mco(data.filter(['X','X^2','X^3']), y)"
      ],
      "execution_count": 60,
      "outputs": []
    },
    {
      "cell_type": "code",
      "metadata": {
        "colab": {
          "base_uri": "https://localhost:8080/",
          "height": 461
        },
        "id": "auelmu_tJqaT",
        "outputId": "34c7a69e-1cde-4739-e03b-5858ca3c88eb"
      },
      "source": [
        "y_est_3 = betas_3[0] + betas_3[1]*data['X'] + betas_3[2]*data['X^2'] + betas_3[3]*data['X^3']\n",
        "plt.figure(figsize=(12,7))\n",
        "plt.grid(alpha=0.3)\n",
        "plt.title('Regresión polinomial - Grado 3')\n",
        "plt.plot(X,y_est_3, color='r', label='Estimación')\n",
        "plt.scatter(X,y)"
      ],
      "execution_count": 61,
      "outputs": [
        {
          "output_type": "execute_result",
          "data": {
            "text/plain": [
              "<matplotlib.collections.PathCollection at 0x7fc17f850d90>"
            ]
          },
          "metadata": {
            "tags": []
          },
          "execution_count": 61
        },
        {
          "output_type": "display_data",
          "data": {
            "image/png": "[encoded data removed]",
            "text/plain": [
              "<Figure size 864x504 with 1 Axes>"
            ]
          },
          "metadata": {
            "tags": [],
            "needs_background": "light"
          }
        }
      ]
    },
    {
      "cell_type": "markdown",
      "metadata": {
        "id": "e8hyA12DMrPF"
      },
      "source": [
        "### Ejemplo 2\n",
        "\n",
        "En el siguiente ejemplo se cargará una base de datos que contiene información socioeconómica relacionada con los años de educación, experiencia, salario, género, entre otras. Se filtrará para conservar únicamente las variables de salario y años de educación y posteriormente se realizará una regresión lineal simple."
      ]
    },
    {
      "cell_type": "code",
      "metadata": {
        "id": "J5TIZCLuJqcj"
      },
      "source": [
        "base = pd.read_excel('/wage1.xls')"
      ],
      "execution_count": 71,
      "outputs": []
    },
    {
      "cell_type": "code",
      "metadata": {
        "colab": {
          "base_uri": "https://localhost:8080/",
          "height": 224
        },
        "id": "y8L34GkhJqn8",
        "outputId": "a837b7f5-cf12-41db-9a2b-03efcc18fb4e"
      },
      "source": [
        "base.head()"
      ],
      "execution_count": 72,
      "outputs": [
        {
          "output_type": "execute_result",
          "data": {
            "text/html": [
              "<div>\n",
              "<style scoped>\n",
              "    .dataframe tbody tr th:only-of-type {\n",
              "        vertical-align: middle;\n",
              "    }\n",
              "\n",
              "    .dataframe tbody tr th {\n",
              "        vertical-align: top;\n",
              "    }\n",
              "\n",
              "    .dataframe thead th {\n",
              "        text-align: right;\n",
              "    }\n",
              "</style>\n",
              "<table border=\"1\" class=\"dataframe\">\n",
              "  <thead>\n",
              "    <tr style=\"text-align: right;\">\n",
              "      <th></th>\n",
              "      <th>wage</th>\n",
              "      <th>educ</th>\n",
              "      <th>exper</th>\n",
              "      <th>tenure</th>\n",
              "      <th>nonwhit</th>\n",
              "      <th>female</th>\n",
              "      <th>married</th>\n",
              "      <th>numdep</th>\n",
              "      <th>smsa</th>\n",
              "      <th>northcen</th>\n",
              "      <th>south</th>\n",
              "      <th>west</th>\n",
              "      <th>contruc</th>\n",
              "      <th>ndurman</th>\n",
              "      <th>trcommpu</th>\n",
              "      <th>trade</th>\n",
              "      <th>services</th>\n",
              "      <th>profserv</th>\n",
              "      <th>profocc</th>\n",
              "      <th>clerocc</th>\n",
              "      <th>servocc</th>\n",
              "      <th>lwage</th>\n",
              "      <th>expersq</th>\n",
              "      <th>tenursq</th>\n",
              "    </tr>\n",
              "  </thead>\n",
              "  <tbody>\n",
              "    <tr>\n",
              "      <th>0</th>\n",
              "      <td>3.10</td>\n",
              "      <td>11</td>\n",
              "      <td>2</td>\n",
              "      <td>0</td>\n",
              "      <td>0</td>\n",
              "      <td>1</td>\n",
              "      <td>0</td>\n",
              "      <td>2</td>\n",
              "      <td>1</td>\n",
              "      <td>0</td>\n",
              "      <td>0</td>\n",
              "      <td>1</td>\n",
              "      <td>0</td>\n",
              "      <td>0</td>\n",
              "      <td>0</td>\n",
              "      <td>0</td>\n",
              "      <td>0</td>\n",
              "      <td>0</td>\n",
              "      <td>0</td>\n",
              "      <td>0</td>\n",
              "      <td>0</td>\n",
              "      <td>1.131402</td>\n",
              "      <td>4</td>\n",
              "      <td>0</td>\n",
              "    </tr>\n",
              "    <tr>\n",
              "      <th>1</th>\n",
              "      <td>3.24</td>\n",
              "      <td>12</td>\n",
              "      <td>22</td>\n",
              "      <td>2</td>\n",
              "      <td>0</td>\n",
              "      <td>1</td>\n",
              "      <td>1</td>\n",
              "      <td>3</td>\n",
              "      <td>1</td>\n",
              "      <td>0</td>\n",
              "      <td>0</td>\n",
              "      <td>1</td>\n",
              "      <td>0</td>\n",
              "      <td>0</td>\n",
              "      <td>0</td>\n",
              "      <td>0</td>\n",
              "      <td>1</td>\n",
              "      <td>0</td>\n",
              "      <td>0</td>\n",
              "      <td>0</td>\n",
              "      <td>1</td>\n",
              "      <td>1.175573</td>\n",
              "      <td>484</td>\n",
              "      <td>4</td>\n",
              "    </tr>\n",
              "    <tr>\n",
              "      <th>2</th>\n",
              "      <td>3.00</td>\n",
              "      <td>11</td>\n",
              "      <td>2</td>\n",
              "      <td>0</td>\n",
              "      <td>0</td>\n",
              "      <td>0</td>\n",
              "      <td>0</td>\n",
              "      <td>2</td>\n",
              "      <td>0</td>\n",
              "      <td>0</td>\n",
              "      <td>0</td>\n",
              "      <td>1</td>\n",
              "      <td>0</td>\n",
              "      <td>0</td>\n",
              "      <td>0</td>\n",
              "      <td>1</td>\n",
              "      <td>0</td>\n",
              "      <td>0</td>\n",
              "      <td>0</td>\n",
              "      <td>0</td>\n",
              "      <td>0</td>\n",
              "      <td>1.098612</td>\n",
              "      <td>4</td>\n",
              "      <td>0</td>\n",
              "    </tr>\n",
              "    <tr>\n",
              "      <th>3</th>\n",
              "      <td>6.00</td>\n",
              "      <td>8</td>\n",
              "      <td>44</td>\n",
              "      <td>28</td>\n",
              "      <td>0</td>\n",
              "      <td>0</td>\n",
              "      <td>1</td>\n",
              "      <td>0</td>\n",
              "      <td>1</td>\n",
              "      <td>0</td>\n",
              "      <td>0</td>\n",
              "      <td>1</td>\n",
              "      <td>0</td>\n",
              "      <td>0</td>\n",
              "      <td>0</td>\n",
              "      <td>0</td>\n",
              "      <td>0</td>\n",
              "      <td>0</td>\n",
              "      <td>0</td>\n",
              "      <td>1</td>\n",
              "      <td>0</td>\n",
              "      <td>1.791759</td>\n",
              "      <td>1936</td>\n",
              "      <td>784</td>\n",
              "    </tr>\n",
              "    <tr>\n",
              "      <th>4</th>\n",
              "      <td>5.30</td>\n",
              "      <td>12</td>\n",
              "      <td>7</td>\n",
              "      <td>2</td>\n",
              "      <td>0</td>\n",
              "      <td>0</td>\n",
              "      <td>1</td>\n",
              "      <td>1</td>\n",
              "      <td>0</td>\n",
              "      <td>0</td>\n",
              "      <td>0</td>\n",
              "      <td>1</td>\n",
              "      <td>0</td>\n",
              "      <td>0</td>\n",
              "      <td>0</td>\n",
              "      <td>0</td>\n",
              "      <td>0</td>\n",
              "      <td>0</td>\n",
              "      <td>0</td>\n",
              "      <td>0</td>\n",
              "      <td>0</td>\n",
              "      <td>1.667707</td>\n",
              "      <td>49</td>\n",
              "      <td>4</td>\n",
              "    </tr>\n",
              "  </tbody>\n",
              "</table>\n",
              "</div>"
            ],
            "text/plain": [
              "   wage  educ  exper  tenure  ...  servocc     lwage  expersq  tenursq\n",
              "0  3.10    11      2       0  ...        0  1.131402        4        0\n",
              "1  3.24    12     22       2  ...        1  1.175573      484        4\n",
              "2  3.00    11      2       0  ...        0  1.098612        4        0\n",
              "3  6.00     8     44      28  ...        0  1.791759     1936      784\n",
              "4  5.30    12      7       2  ...        0  1.667707       49        4\n",
              "\n",
              "[5 rows x 24 columns]"
            ]
          },
          "metadata": {
            "tags": []
          },
          "execution_count": 72
        }
      ]
    },
    {
      "cell_type": "code",
      "metadata": {
        "id": "GA7I2KSGOsEr"
      },
      "source": [
        "base = base.filter(['lwage', 'educ'])"
      ],
      "execution_count": 73,
      "outputs": []
    },
    {
      "cell_type": "code",
      "metadata": {
        "colab": {
          "base_uri": "https://localhost:8080/",
          "height": 459
        },
        "id": "0h_S6gnLO8PT",
        "outputId": "c486cccb-de05-41dd-db8a-6211d145b520"
      },
      "source": [
        "plt.figure(figsize=(12,7))\n",
        "plt.xlabel('Educación')\n",
        "plt.ylabel('Logaritmo del salario')\n",
        "plt.scatter(base['educ'],base['lwage'])"
      ],
      "execution_count": 78,
      "outputs": [
        {
          "output_type": "execute_result",
          "data": {
            "text/plain": [
              "<matplotlib.collections.PathCollection at 0x7fc17ef44c50>"
            ]
          },
          "metadata": {
            "tags": []
          },
          "execution_count": 78
        },
        {
          "output_type": "display_data",
          "data": {
            "image/png": "[encoded data removed]",
            "text/plain": [
              "<Figure size 864x504 with 1 Axes>"
            ]
          },
          "metadata": {
            "tags": [],
            "needs_background": "light"
          }
        }
      ]
    },
    {
      "cell_type": "code",
      "metadata": {
        "id": "g4lvEZpFPZC_"
      },
      "source": [
        "param = mco(base['educ'],base['lwage'])"
      ],
      "execution_count": 80,
      "outputs": []
    },
    {
      "cell_type": "code",
      "metadata": {
        "colab": {
          "base_uri": "https://localhost:8080/",
          "height": 459
        },
        "id": "NBnFTU2NPZfP",
        "outputId": "857bf788-a1f8-48d6-dd05-9a63bd50644b"
      },
      "source": [
        "lwage_est = param[0] + param[1]*base['educ']\n",
        "plt.figure(figsize=(12,7))\n",
        "plt.xlabel('Educación')\n",
        "plt.ylabel('Logaritmo del salario')\n",
        "plt.plot(base['educ'], lwage_est, color='r', label='Estimación')\n",
        "plt.scatter(base['educ'],base['lwage'])\n",
        "plt.legend()"
      ],
      "execution_count": 81,
      "outputs": [
        {
          "output_type": "execute_result",
          "data": {
            "text/plain": [
              "<matplotlib.legend.Legend at 0x7fc1816bb750>"
            ]
          },
          "metadata": {
            "tags": []
          },
          "execution_count": 81
        },
        {
          "output_type": "display_data",
          "data": {
            "image/png": "[encoded data removed]",
            "text/plain": [
              "<Figure size 864x504 with 1 Axes>"
            ]
          },
          "metadata": {
            "tags": [],
            "needs_background": "light"
          }
        }
      ]
    },
    {
      "cell_type": "markdown",
      "metadata": {
        "id": "Flqxrje0UKjc"
      },
      "source": [
        "## Conclusiones\n",
        "\n",
        "En este documento se hizo un acercamiento inicial a la historia de la regresión lineal y a su uso extensivo en la ciencia económica. Se desarrolló un algoritmo basado en el método de mínimos cuadrados ordinarios y este se modularizó en una función para ser utilizado en dos ejemplos: uno con datos simulados y otro con datos reales.\n",
        "\n",
        "En el primer ejemplo no solo se llevó a cabo una regresión lineal que, como se espera en un conjunto de datos simulados, se ajustó bien, sino que también se estimaron parámetros para una regresión polinomial de grado dos y de grado tres, observando en estas un mejor ajuste.\n",
        "\n",
        "En el segundo ejemplo se estimaron los parámetros para una regresión simple. El resultado ajusta bien, pero con la gráfica se observan problemas de violación de supuestos que superan los límites de este documento.\n",
        "\n",
        "La regresión lineal ha sido, es y seguirá siendo una de las principales herramientas de investigación. No obstante, para que su capacidad de predicción y explicación de fenómenos se mantengan, se tiene que cumplir con una serie de supuestos que por momentos resultan restrictivos. Como uno de los principales algoritmos del aprendizaje supervisado su alcance es evidente pero, como se recomienda en la literatura, puede que sea solo el punto de partida para seguir explorando lo que la inteligencia artifical ofrece."
      ]
    }
  ]
}